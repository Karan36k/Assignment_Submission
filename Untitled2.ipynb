{
  "nbformat": 4,
  "nbformat_minor": 0,
  "metadata": {
    "colab": {
      "provenance": []
    },
    "kernelspec": {
      "name": "python3",
      "display_name": "Python 3"
    },
    "language_info": {
      "name": "python"
    }
  },
  "cells": [
    {
      "cell_type": "markdown",
      "source": [
        "CODE FILE BY: KARAN ARORA (M22aie235)\n",
        "\n",
        "The following github account is my account where the code file implementation will be saved\n",
        "\n",
        "https://github.com/Karan36k/Assignment_Submission"
      ],
      "metadata": {
        "id": "NPD_Xa-eP4Ip"
      }
    },
    {
      "cell_type": "markdown",
      "source": [
        "CODE ANSWER TO QUESTION NUMBER 1\n",
        "\n",
        "Question 1: Perceptron [30 points] \n",
        "1. In how many steps the perception learning algorithm will converge. \n",
        "2. What will be the final decision boundary? Show step-wise-step update of weight vector using computation as well as hand-drawn plot. \n"
      ],
      "metadata": {
        "id": "obSxAISgMW3P"
      }
    },
    {
      "cell_type": "code",
      "execution_count": null,
      "metadata": {
        "colab": {
          "base_uri": "https://localhost:8080/"
        },
        "id": "4j1KvcuoLv43",
        "outputId": "c8fa9412-8a65-47aa-fba0-e6cbf9af1896"
      },
      "outputs": [
        {
          "output_type": "stream",
          "name": "stdout",
          "text": [
            "[1 1 1]\n",
            "conversion start...\n",
            "convergence steps: 3\n",
            "[ 1.4 -0.4  0. ]\n"
          ]
        }
      ],
      "source": [
        "import numpy as np\n",
        "given_value = np.array([[1,1],[-1,-1],[0,0.5],[0.1,0.5],[0.2,0.2],[0.9,0.5]]) #this array is given in the question paper\n",
        "y=[1,-1,-1,-1,1,1]\n",
        "op_value = 0\n",
        "w = [1,1] # As mentioned in the question we are initializing the weights as [1,1]\n",
        "w = np.append(w,1) #appending our weight of 0 to 1\n",
        "print(w)\n",
        "print(\"conversion start...\")\n",
        "steps = 0\n",
        "while (op_value != len(given_value)):\n",
        "  steps = steps +1\n",
        "  for value_taken_for_ref in range(len(given_value)):\n",
        "    x = np.append(given_value[value_taken_for_ref,0:2],1)\n",
        "    if y[value_taken_for_ref]==1: \n",
        "      if np.dot(np.transpose(w),x)>=0: \n",
        "        op_value=op_value+1\n",
        "      else: #orange is classified as apple\n",
        "        w=w+x\n",
        "    else: #value_taken_for_ref is Negative (apple)\n",
        "      if np.dot(np.transpose(w),x)<0: \n",
        "        op_value=op_value+1\n",
        "      else: \n",
        "        w=w-x\n",
        "  if(op_value != len(given_value)):\n",
        "    op_value=0\n",
        "print(\"convergence steps: \"+ str(steps-1))\n",
        "print(w)\n"
      ]
    },
    {
      "cell_type": "markdown",
      "source": [
        "CODE ANSWER TO QUESTION NUMBER 2\n",
        "\n",
        "Problem 2: Learning to implement Neural Network [30 points] \n",
        "1. Gurmukhi Handwritten Digit Classification: Gurmukhi is one of the popular Indian scripts widely used in the Indian state of Punjab. In this part of the assignment, our goal is to develop a neural network solution (a simple NN, not a CNN) for classifying Gurmukhi digits. We provide you Handwritten Gurmukhi digit dataset here: \n",
        "1\n",
        "Dataset link \n",
        "Modify the code provided in here and a video tutorial here, and develop a robust neural network to classify the Gurmukhi digits. Higher performance on the test set will have bonus points. Briefly write your observation and submit your code so that we can evaluate your implementation at our end. (10 points) \n"
      ],
      "metadata": {
        "id": "DohCcCUcTYqF"
      }
    },
    {
      "cell_type": "code",
      "source": [
        "import numpy as np\n",
        "import tensorflow as tf \n",
        "import matplotlib.pyplot as plt\n",
        "\n",
        "from tensorflow.keras.preprocessing.image import ImageDataGenerator\n",
        "from tensorflow.keras import datasets, layers, models"
      ],
      "metadata": {
        "id": "l1jVM8GlLzjn"
      },
      "execution_count": null,
      "outputs": []
    },
    {
      "cell_type": "code",
      "source": [
        "# I am now running this cell to download the dataset which is saved in my repository \n",
        "\n",
        "# to download dataset\n",
        "!wget  -q https://github.com/karan36k/assignment_submission/raw/master/gurumukhi_digits_dataset/train.zip\n",
        "!wget  -q https://github.com/karan36k/assignment_submission/raw/master/gurumukhi_digits_dataset/val.zip\n",
        "\n",
        "\n",
        "# to unzip dataset \n",
        "!unzip -q train.zip -d gurumukhi_digits_dataset/\n",
        "!unzip -q val.zip -d gurumukhi_digits_dataset/"
      ],
      "metadata": {
        "id": "YP45XTHuUZiC"
      },
      "execution_count": null,
      "outputs": []
    },
    {
      "cell_type": "code",
      "source": [
        "def plot_loss_accuracy(history):\n",
        "    '''\n",
        "    A function to plot train and validation loss against epochs of training\n",
        "    '''\n",
        "    acc = history.history['accuracy']\n",
        "    val_acc = history.history['val_accuracy']\n",
        "\n",
        "    loss = history.history['loss']\n",
        "    val_loss = history.history['val_loss']\n",
        "\n",
        "    plt.figure(figsize=(8, 8))\n",
        "    plt.subplot(2, 1, 1)\n",
        "    plt.plot(acc, label='Training Accuracy')\n",
        "    plt.plot(val_acc, label='Validation Accuracy')\n",
        "    plt.legend(loc='lower right')\n",
        "    plt.ylabel('Accuracy')\n",
        "    plt.ylim([min(plt.ylim()),1])\n",
        "    plt.title('Training and Validation Accuracy')\n",
        "\n",
        "    plt.subplot(2, 1, 2)\n",
        "    plt.plot(loss, label='Training Loss')\n",
        "    plt.plot(val_loss, label='Validation Loss')\n",
        "    plt.legend(loc='upper right')\n",
        "    plt.ylabel('Cross Entropy')\n",
        "    plt.ylim([0,2.0])\n",
        "    plt.title('Training and Validation Loss')\n",
        "    plt.xlabel('epoch')\n",
        "    plt.show()"
      ],
      "metadata": {
        "id": "hpqKWpKuXQX4"
      },
      "execution_count": 22,
      "outputs": []
    },
    {
      "cell_type": "code",
      "source": [
        "# using ImageDataGenerator to load data from the disk\n",
        "# TODO : try if inverting white and black in dataset images has any effect on the performance of the model\n",
        "\n",
        "train_data_path = 'gurumukhi_digits_dataset/train'\n",
        "val_data_path = 'gurumukhi_digits_dataset/val'\n",
        "\n",
        "IMAGE_SIZE = 32\n",
        "IMAGE_SHAPE = (IMAGE_SIZE, IMAGE_SIZE, 1) # 3 channels\n",
        "NUM_OF_CLASSES = 10\n",
        "\n",
        "train_image_generator = ImageDataGenerator( rescale=1./255 )\n",
        "val_image_generator = ImageDataGenerator( rescale=1./255 )\n",
        "\n",
        "train_data_gen = train_image_generator.flow_from_directory(\n",
        "    train_data_path, \n",
        "    target_size=(IMAGE_SIZE, IMAGE_SIZE), \n",
        "    color_mode='grayscale', # for 1 channel images\n",
        "    class_mode='sparse', # labels will be integers\n",
        "    batch_size=32, \n",
        "    shuffle=True, \n",
        "    seed=None,\n",
        "    )\n",
        "\n",
        "val_data_gen = val_image_generator.flow_from_directory(\n",
        "    val_data_path, \n",
        "    target_size=(IMAGE_SIZE, IMAGE_SIZE), \n",
        "    color_mode='grayscale', # for 1 channel images\n",
        "    class_mode='sparse', # labels will be integers\n",
        "    batch_size=32, \n",
        "    shuffle=True, \n",
        "    seed=None,\n",
        "    )"
      ],
      "metadata": {
        "colab": {
          "base_uri": "https://localhost:8080/"
        },
        "id": "o_8BUUQRY4h7",
        "outputId": "f638b52b-decc-4248-9dec-9290219254b9"
      },
      "execution_count": 23,
      "outputs": [
        {
          "output_type": "stream",
          "name": "stdout",
          "text": [
            "Found 1000 images belonging to 10 classes.\n",
            "Found 178 images belonging to 10 classes.\n"
          ]
        },
        {
          "output_type": "stream",
          "name": "stderr",
          "text": [
            "/usr/local/lib/python3.10/dist-packages/keras/preprocessing/image.py:202: UserWarning: Using \".tiff\" files with multiple bands will cause distortion. Please verify your output.\n",
            "  warnings.warn(\n"
          ]
        }
      ]
    },
    {
      "cell_type": "code",
      "source": [
        "# checking/ validating some images generated by datagenerator\n",
        "\n",
        "# This function will plot 4 images along with their labels.\n",
        "def plotImages(image_datas,y_list):\n",
        "    f, axarr = plt.subplots(2,2)\n",
        "    axarr[0,0].imshow(image_datas[0], cmap='gray')\n",
        "    axarr[0,0].set_title(y_list[0])\n",
        "    axarr[0,0].axis('off')\n",
        "    axarr[0,1].imshow(image_datas[1], cmap='gray')\n",
        "    axarr[0,1].set_title(y_list[1])\n",
        "    axarr[0,1].axis('off')\n",
        "    axarr[1,0].imshow(image_datas[2], cmap='gray')\n",
        "    axarr[1,0].set_title(y_list[2])\n",
        "    axarr[1,0].axis('off')\n",
        "    axarr[1,1].imshow(image_datas[3], cmap='gray')\n",
        "    axarr[1,1].set_title(y_list[3])\n",
        "    axarr[1,1].axis('off')\n",
        "\n",
        "sample_training_images, y_list = next(train_data_gen)\n",
        "sample_training_images = np.squeeze(sample_training_images) # to reduce dimension\n",
        "print(\"shape of a batch given by image data generator : {}\".format(sample_training_images.shape))\n",
        "\n",
        "plotImages(sample_training_images[:4],y_list[:4])"
      ],
      "metadata": {
        "colab": {
          "base_uri": "https://localhost:8080/",
          "height": 445
        },
        "id": "kN4jFnxnY7cR",
        "outputId": "472b696c-74e1-4faf-a8c5-5e9a2fd2ec6c"
      },
      "execution_count": 24,
      "outputs": [
        {
          "output_type": "stream",
          "name": "stdout",
          "text": [
            "shape of a batch given by image data generator : (32, 32, 32)\n"
          ]
        },
        {
          "output_type": "display_data",
          "data": {
            "text/plain": [
              "<Figure size 640x480 with 4 Axes>"
            ],
            "image/png": "[encoded data removed]"
          },
          "metadata": {}
        }
      ]
    },
    {
      "cell_type": "code",
      "source": [
        "# Trying a simple 1 layer NN : to get a baseline \n",
        "# TODO : make some variables to define learning rate, optimizer, etc. \n",
        "\n",
        "def create_1_layer_NN():\n",
        "    model = tf.keras.models.Sequential([\n",
        "        layers.Flatten(input_shape = IMAGE_SHAPE),\n",
        "        layers.Dense(NUM_OF_CLASSES, activation='softmax') \n",
        "    ])\n",
        "\n",
        "    model.compile(optimizer='adam',\n",
        "                loss='sparse_categorical_crossentropy',\n",
        "                metrics=['accuracy'])\n",
        "\n",
        "    return model"
      ],
      "metadata": {
        "id": "pJ-1oTYDY-Wn"
      },
      "execution_count": 25,
      "outputs": []
    },
    {
      "cell_type": "code",
      "source": [
        "one_layer_NN_model = create_1_layer_NN()\n",
        "one_layer_NN_model.summary()"
      ],
      "metadata": {
        "colab": {
          "base_uri": "https://localhost:8080/"
        },
        "id": "7f92iN3YZB7p",
        "outputId": "1456333f-6566-4bde-9786-c0f14633b096"
      },
      "execution_count": 26,
      "outputs": [
        {
          "output_type": "stream",
          "name": "stdout",
          "text": [
            "Model: \"sequential\"\n",
            "_________________________________________________________________\n",
            " Layer (type)                Output Shape              Param #   \n",
            "=================================================================\n",
            " flatten (Flatten)           (None, 1024)              0         \n",
            "                                                                 \n",
            " dense (Dense)               (None, 10)                10250     \n",
            "                                                                 \n",
            "=================================================================\n",
            "Total params: 10,250\n",
            "Trainable params: 10,250\n",
            "Non-trainable params: 0\n",
            "_________________________________________________________________\n"
          ]
        }
      ]
    },
    {
      "cell_type": "code",
      "source": [
        "# training\n",
        "\n",
        "one_layer_NN_checkpoint_filepath = 'one_layer_NN/checkpoint/'\n",
        "one_layer_NN_checkpoint_callback = tf.keras.callbacks.ModelCheckpoint(\n",
        "    filepath=one_layer_NN_checkpoint_filepath,\n",
        "    save_weights_only=True,\n",
        "    monitor='val_accuracy',\n",
        "    mode='max',\n",
        "    save_best_only=True)\n",
        "\n",
        "one_layer_NN_model_history = one_layer_NN_model.fit(train_data_gen, epochs=30, \n",
        "                    validation_data=val_data_gen,\n",
        "                    callbacks=[one_layer_NN_checkpoint_callback])"
      ],
      "metadata": {
        "colab": {
          "base_uri": "https://localhost:8080/"
        },
        "id": "TkGIofGLZD6Z",
        "outputId": "73e95370-d6f5-499b-f31a-53bf56caf710"
      },
      "execution_count": 27,
      "outputs": [
        {
          "output_type": "stream",
          "name": "stdout",
          "text": [
            "Epoch 1/30\n",
            "32/32 [==============================] - 3s 47ms/step - loss: 1.4569 - accuracy: 0.5540 - val_loss: 0.9859 - val_accuracy: 0.7584\n",
            "Epoch 2/30\n",
            "32/32 [==============================] - 1s 16ms/step - loss: 0.5188 - accuracy: 0.8980 - val_loss: 0.6357 - val_accuracy: 0.8202\n",
            "Epoch 3/30\n",
            "32/32 [==============================] - 1s 16ms/step - loss: 0.3344 - accuracy: 0.9300 - val_loss: 0.4773 - val_accuracy: 0.8764\n",
            "Epoch 4/30\n",
            "32/32 [==============================] - 1s 22ms/step - loss: 0.2451 - accuracy: 0.9530 - val_loss: 0.4249 - val_accuracy: 0.8820\n",
            "Epoch 5/30\n",
            "32/32 [==============================] - 1s 16ms/step - loss: 0.1990 - accuracy: 0.9620 - val_loss: 0.3356 - val_accuracy: 0.9270\n",
            "Epoch 6/30\n",
            "32/32 [==============================] - 1s 16ms/step - loss: 0.1585 - accuracy: 0.9720 - val_loss: 0.3090 - val_accuracy: 0.9213\n",
            "Epoch 7/30\n",
            "32/32 [==============================] - 1s 15ms/step - loss: 0.1384 - accuracy: 0.9840 - val_loss: 0.2983 - val_accuracy: 0.9213\n",
            "Epoch 8/30\n",
            "32/32 [==============================] - 1s 16ms/step - loss: 0.1261 - accuracy: 0.9820 - val_loss: 0.2730 - val_accuracy: 0.9326\n",
            "Epoch 9/30\n",
            "32/32 [==============================] - 1s 15ms/step - loss: 0.1082 - accuracy: 0.9890 - val_loss: 0.2525 - val_accuracy: 0.9326\n",
            "Epoch 10/30\n",
            "32/32 [==============================] - 1s 16ms/step - loss: 0.0950 - accuracy: 0.9880 - val_loss: 0.2443 - val_accuracy: 0.9494\n",
            "Epoch 11/30\n",
            "32/32 [==============================] - 1s 16ms/step - loss: 0.0811 - accuracy: 0.9920 - val_loss: 0.2275 - val_accuracy: 0.9438\n",
            "Epoch 12/30\n",
            "32/32 [==============================] - 1s 36ms/step - loss: 0.0724 - accuracy: 0.9930 - val_loss: 0.2345 - val_accuracy: 0.9438\n",
            "Epoch 13/30\n",
            "32/32 [==============================] - 1s 18ms/step - loss: 0.0679 - accuracy: 0.9940 - val_loss: 0.2215 - val_accuracy: 0.9438\n",
            "Epoch 14/30\n",
            "32/32 [==============================] - 1s 15ms/step - loss: 0.0612 - accuracy: 0.9940 - val_loss: 0.2177 - val_accuracy: 0.9494\n",
            "Epoch 15/30\n",
            "32/32 [==============================] - 1s 15ms/step - loss: 0.0560 - accuracy: 0.9950 - val_loss: 0.2119 - val_accuracy: 0.9551\n",
            "Epoch 16/30\n",
            "32/32 [==============================] - 1s 16ms/step - loss: 0.0515 - accuracy: 0.9960 - val_loss: 0.2098 - val_accuracy: 0.9438\n",
            "Epoch 17/30\n",
            "32/32 [==============================] - 1s 22ms/step - loss: 0.0466 - accuracy: 0.9970 - val_loss: 0.2050 - val_accuracy: 0.9438\n",
            "Epoch 18/30\n",
            "32/32 [==============================] - 2s 49ms/step - loss: 0.0461 - accuracy: 0.9970 - val_loss: 0.1978 - val_accuracy: 0.9494\n",
            "Epoch 19/30\n",
            "32/32 [==============================] - 1s 37ms/step - loss: 0.0400 - accuracy: 0.9970 - val_loss: 0.2028 - val_accuracy: 0.9438\n",
            "Epoch 20/30\n",
            "32/32 [==============================] - 1s 27ms/step - loss: 0.0372 - accuracy: 1.0000 - val_loss: 0.1911 - val_accuracy: 0.9494\n",
            "Epoch 21/30\n",
            "32/32 [==============================] - 1s 33ms/step - loss: 0.0335 - accuracy: 0.9990 - val_loss: 0.1890 - val_accuracy: 0.9494\n",
            "Epoch 22/30\n",
            "32/32 [==============================] - 1s 42ms/step - loss: 0.0325 - accuracy: 0.9990 - val_loss: 0.1865 - val_accuracy: 0.9494\n",
            "Epoch 23/30\n",
            "32/32 [==============================] - 1s 20ms/step - loss: 0.0292 - accuracy: 1.0000 - val_loss: 0.1902 - val_accuracy: 0.9494\n",
            "Epoch 24/30\n",
            "32/32 [==============================] - 1s 21ms/step - loss: 0.0284 - accuracy: 1.0000 - val_loss: 0.1928 - val_accuracy: 0.9551\n",
            "Epoch 25/30\n",
            "32/32 [==============================] - 1s 16ms/step - loss: 0.0252 - accuracy: 1.0000 - val_loss: 0.1896 - val_accuracy: 0.9494\n",
            "Epoch 26/30\n",
            "32/32 [==============================] - 1s 16ms/step - loss: 0.0245 - accuracy: 1.0000 - val_loss: 0.1854 - val_accuracy: 0.9494\n",
            "Epoch 27/30\n",
            "32/32 [==============================] - 1s 16ms/step - loss: 0.0231 - accuracy: 1.0000 - val_loss: 0.1911 - val_accuracy: 0.9438\n",
            "Epoch 28/30\n",
            "32/32 [==============================] - 1s 24ms/step - loss: 0.0226 - accuracy: 1.0000 - val_loss: 0.1817 - val_accuracy: 0.9551\n",
            "Epoch 29/30\n",
            "32/32 [==============================] - 1s 22ms/step - loss: 0.0209 - accuracy: 1.0000 - val_loss: 0.1857 - val_accuracy: 0.9494\n",
            "Epoch 30/30\n",
            "32/32 [==============================] - 1s 21ms/step - loss: 0.0201 - accuracy: 1.0000 - val_loss: 0.1856 - val_accuracy: 0.9494\n"
          ]
        }
      ]
    },
    {
      "cell_type": "code",
      "source": [
        "plot_loss_accuracy(one_layer_NN_model_history)"
      ],
      "metadata": {
        "colab": {
          "base_uri": "https://localhost:8080/",
          "height": 718
        },
        "id": "aaS1fGfzZFyW",
        "outputId": "22b5e71b-0991-49d5-ad9c-d78388d5f555"
      },
      "execution_count": 28,
      "outputs": [
        {
          "output_type": "display_data",
          "data": {
            "text/plain": [
              "<Figure size 800x800 with 2 Axes>"
            ],
            "image/png": "[encoded data removed]"
          },
          "metadata": {}
        }
      ]
    },
    {
      "cell_type": "markdown",
      "source": [
        "Observations with 1 layer NN (i.e. no hidden layer)\n",
        "Training accuracy reaches 100%\n",
        "validation accuracy reaches 95%\n",
        "Clear overfitting : with training accuracy reaching 100% while validation accuracy hovers around 94%"
      ],
      "metadata": {
        "id": "18z0EV1vZRMW"
      }
    },
    {
      "cell_type": "code",
      "source": [
        "# checking the model with saved weights by evaluating on validation data\n",
        "one_layer_NN_checkpoint_filepath = 'one_layer_NN/checkpoint/'\n",
        "\n",
        "one_layer_NN_model.load_weights(one_layer_NN_checkpoint_filepath)\n",
        "one_layer_NN_model.evaluate(val_data_gen)"
      ],
      "metadata": {
        "colab": {
          "base_uri": "https://localhost:8080/"
        },
        "id": "8mT3bLNrZOMx",
        "outputId": "bb18a2b1-e0fd-4435-daa1-e75de10c0795"
      },
      "execution_count": 29,
      "outputs": [
        {
          "output_type": "stream",
          "name": "stdout",
          "text": [
            "6/6 [==============================] - 0s 22ms/step - loss: 0.2119 - accuracy: 0.9551\n"
          ]
        },
        {
          "output_type": "execute_result",
          "data": {
            "text/plain": [
              "[0.21190263330936432, 0.9550561904907227]"
            ]
          },
          "metadata": {},
          "execution_count": 29
        }
      ]
    },
    {
      "cell_type": "markdown",
      "source": [
        "We can improve this"
      ],
      "metadata": {
        "id": "lyna_1jIZXha"
      }
    },
    {
      "cell_type": "code",
      "source": [
        "# Trying NN with 1 hidden layer\n",
        "\n",
        "def create_1_hidden_layer_NN():\n",
        "    model = tf.keras.models.Sequential([\n",
        "        layers.Flatten(input_shape = IMAGE_SHAPE),\n",
        "        layers.Dense(128, activation='relu'),\n",
        "        layers.Dense(NUM_OF_CLASSES, activation='softmax') \n",
        "    ])\n",
        "\n",
        "    model.compile(optimizer='adam',\n",
        "                loss='sparse_categorical_crossentropy',\n",
        "                metrics=['accuracy'])\n",
        "\n",
        "    return model"
      ],
      "metadata": {
        "id": "mY_vgwmsZUc4"
      },
      "execution_count": 30,
      "outputs": []
    },
    {
      "cell_type": "code",
      "source": [
        "one_hidden_layer_NN = create_1_hidden_layer_NN()\n",
        "one_hidden_layer_NN.summary()"
      ],
      "metadata": {
        "colab": {
          "base_uri": "https://localhost:8080/"
        },
        "id": "_VURs4o8ZaV9",
        "outputId": "98962728-2aca-4e0b-a94b-3124aee2a61f"
      },
      "execution_count": 31,
      "outputs": [
        {
          "output_type": "stream",
          "name": "stdout",
          "text": [
            "Model: \"sequential_1\"\n",
            "_________________________________________________________________\n",
            " Layer (type)                Output Shape              Param #   \n",
            "=================================================================\n",
            " flatten_1 (Flatten)         (None, 1024)              0         \n",
            "                                                                 \n",
            " dense_1 (Dense)             (None, 128)               131200    \n",
            "                                                                 \n",
            " dense_2 (Dense)             (None, 10)                1290      \n",
            "                                                                 \n",
            "=================================================================\n",
            "Total params: 132,490\n",
            "Trainable params: 132,490\n",
            "Non-trainable params: 0\n",
            "_________________________________________________________________\n"
          ]
        }
      ]
    },
    {
      "cell_type": "code",
      "source": [
        "# training\n",
        "\n",
        "one_hidden_layer_NN_checkpoint_filepath = 'one_hidden_layer_NN/checkpoint/'\n",
        "one_hidden_layer_NN_checkpoint_callback = tf.keras.callbacks.ModelCheckpoint(\n",
        "    filepath=one_hidden_layer_NN_checkpoint_filepath,\n",
        "    save_weights_only=True,\n",
        "    monitor='val_accuracy',\n",
        "    mode='max',\n",
        "    save_best_only=True)\n",
        "\n",
        "one_hidden_layer_NN_history = one_hidden_layer_NN.fit(train_data_gen, epochs=50, \n",
        "                    validation_data=val_data_gen,\n",
        "                    callbacks=[one_hidden_layer_NN_checkpoint_callback])"
      ],
      "metadata": {
        "colab": {
          "base_uri": "https://localhost:8080/"
        },
        "id": "gOSUUWWQZcfD",
        "outputId": "6877f8e7-7d3e-4cba-a419-55c72403e742"
      },
      "execution_count": 32,
      "outputs": [
        {
          "output_type": "stream",
          "name": "stdout",
          "text": [
            "Epoch 1/50\n",
            "32/32 [==============================] - 3s 50ms/step - loss: 1.0728 - accuracy: 0.6820 - val_loss: 0.6129 - val_accuracy: 0.8202\n",
            "Epoch 2/50\n",
            "32/32 [==============================] - 1s 18ms/step - loss: 0.2468 - accuracy: 0.9260 - val_loss: 0.3211 - val_accuracy: 0.9101\n",
            "Epoch 3/50\n",
            "32/32 [==============================] - 1s 17ms/step - loss: 0.1367 - accuracy: 0.9630 - val_loss: 0.2975 - val_accuracy: 0.9326\n",
            "Epoch 4/50\n",
            "32/32 [==============================] - 1s 18ms/step - loss: 0.0962 - accuracy: 0.9800 - val_loss: 0.2452 - val_accuracy: 0.9213\n",
            "Epoch 5/50\n",
            "32/32 [==============================] - 1s 24ms/step - loss: 0.0708 - accuracy: 0.9900 - val_loss: 0.2470 - val_accuracy: 0.9045\n",
            "Epoch 6/50\n",
            "32/32 [==============================] - 1s 25ms/step - loss: 0.0664 - accuracy: 0.9840 - val_loss: 0.2426 - val_accuracy: 0.9326\n",
            "Epoch 7/50\n",
            "32/32 [==============================] - 1s 29ms/step - loss: 0.0406 - accuracy: 0.9950 - val_loss: 0.1882 - val_accuracy: 0.9438\n",
            "Epoch 8/50\n",
            "32/32 [==============================] - 1s 17ms/step - loss: 0.0371 - accuracy: 0.9980 - val_loss: 0.2203 - val_accuracy: 0.9438\n",
            "Epoch 9/50\n",
            "32/32 [==============================] - 1s 18ms/step - loss: 0.0312 - accuracy: 0.9980 - val_loss: 0.2076 - val_accuracy: 0.9494\n",
            "Epoch 10/50\n",
            "32/32 [==============================] - 1s 17ms/step - loss: 0.0335 - accuracy: 0.9940 - val_loss: 0.2114 - val_accuracy: 0.9382\n",
            "Epoch 11/50\n",
            "32/32 [==============================] - 1s 18ms/step - loss: 0.0177 - accuracy: 1.0000 - val_loss: 0.1819 - val_accuracy: 0.9494\n",
            "Epoch 12/50\n",
            "32/32 [==============================] - 1s 17ms/step - loss: 0.0156 - accuracy: 1.0000 - val_loss: 0.1827 - val_accuracy: 0.9494\n",
            "Epoch 13/50\n",
            "32/32 [==============================] - 1s 17ms/step - loss: 0.0131 - accuracy: 1.0000 - val_loss: 0.1858 - val_accuracy: 0.9438\n",
            "Epoch 14/50\n",
            "32/32 [==============================] - 1s 18ms/step - loss: 0.0108 - accuracy: 1.0000 - val_loss: 0.1754 - val_accuracy: 0.9551\n",
            "Epoch 15/50\n",
            "32/32 [==============================] - 1s 17ms/step - loss: 0.0101 - accuracy: 1.0000 - val_loss: 0.1875 - val_accuracy: 0.9494\n",
            "Epoch 16/50\n",
            "32/32 [==============================] - 1s 17ms/step - loss: 0.0089 - accuracy: 1.0000 - val_loss: 0.1810 - val_accuracy: 0.9438\n",
            "Epoch 17/50\n",
            "32/32 [==============================] - 1s 18ms/step - loss: 0.0073 - accuracy: 1.0000 - val_loss: 0.1818 - val_accuracy: 0.9438\n",
            "Epoch 18/50\n",
            "32/32 [==============================] - 1s 23ms/step - loss: 0.0067 - accuracy: 1.0000 - val_loss: 0.1795 - val_accuracy: 0.9494\n",
            "Epoch 19/50\n",
            "32/32 [==============================] - 1s 17ms/step - loss: 0.0062 - accuracy: 1.0000 - val_loss: 0.1837 - val_accuracy: 0.9494\n",
            "Epoch 20/50\n",
            "32/32 [==============================] - 1s 17ms/step - loss: 0.0061 - accuracy: 1.0000 - val_loss: 0.1864 - val_accuracy: 0.9438\n",
            "Epoch 21/50\n",
            "32/32 [==============================] - 1s 22ms/step - loss: 0.0052 - accuracy: 1.0000 - val_loss: 0.1783 - val_accuracy: 0.9438\n",
            "Epoch 22/50\n",
            "32/32 [==============================] - 1s 28ms/step - loss: 0.0047 - accuracy: 1.0000 - val_loss: 0.1947 - val_accuracy: 0.9438\n",
            "Epoch 23/50\n",
            "32/32 [==============================] - 1s 25ms/step - loss: 0.0044 - accuracy: 1.0000 - val_loss: 0.1823 - val_accuracy: 0.9607\n",
            "Epoch 24/50\n",
            "32/32 [==============================] - 1s 30ms/step - loss: 0.0044 - accuracy: 1.0000 - val_loss: 0.1805 - val_accuracy: 0.9494\n",
            "Epoch 25/50\n",
            "32/32 [==============================] - 1s 17ms/step - loss: 0.0039 - accuracy: 1.0000 - val_loss: 0.1820 - val_accuracy: 0.9438\n",
            "Epoch 26/50\n",
            "32/32 [==============================] - 1s 17ms/step - loss: 0.0036 - accuracy: 1.0000 - val_loss: 0.1775 - val_accuracy: 0.9494\n",
            "Epoch 27/50\n",
            "32/32 [==============================] - 1s 17ms/step - loss: 0.0035 - accuracy: 1.0000 - val_loss: 0.1897 - val_accuracy: 0.9494\n",
            "Epoch 28/50\n",
            "32/32 [==============================] - 1s 18ms/step - loss: 0.0033 - accuracy: 1.0000 - val_loss: 0.1857 - val_accuracy: 0.9494\n",
            "Epoch 29/50\n",
            "32/32 [==============================] - 1s 18ms/step - loss: 0.0030 - accuracy: 1.0000 - val_loss: 0.1873 - val_accuracy: 0.9494\n",
            "Epoch 30/50\n",
            "32/32 [==============================] - 1s 17ms/step - loss: 0.0028 - accuracy: 1.0000 - val_loss: 0.1841 - val_accuracy: 0.9494\n",
            "Epoch 31/50\n",
            "32/32 [==============================] - 1s 18ms/step - loss: 0.0026 - accuracy: 1.0000 - val_loss: 0.1943 - val_accuracy: 0.9438\n",
            "Epoch 32/50\n",
            "32/32 [==============================] - 1s 18ms/step - loss: 0.0025 - accuracy: 1.0000 - val_loss: 0.1882 - val_accuracy: 0.9494\n",
            "Epoch 33/50\n",
            "32/32 [==============================] - 1s 18ms/step - loss: 0.0023 - accuracy: 1.0000 - val_loss: 0.1949 - val_accuracy: 0.9438\n",
            "Epoch 34/50\n",
            "32/32 [==============================] - 1s 18ms/step - loss: 0.0022 - accuracy: 1.0000 - val_loss: 0.1874 - val_accuracy: 0.9438\n",
            "Epoch 35/50\n",
            "32/32 [==============================] - 1s 18ms/step - loss: 0.0021 - accuracy: 1.0000 - val_loss: 0.1889 - val_accuracy: 0.9494\n",
            "Epoch 36/50\n",
            "32/32 [==============================] - 1s 18ms/step - loss: 0.0020 - accuracy: 1.0000 - val_loss: 0.1848 - val_accuracy: 0.9494\n",
            "Epoch 37/50\n",
            "32/32 [==============================] - 1s 17ms/step - loss: 0.0019 - accuracy: 1.0000 - val_loss: 0.1895 - val_accuracy: 0.9438\n",
            "Epoch 38/50\n",
            "32/32 [==============================] - 1s 17ms/step - loss: 0.0018 - accuracy: 1.0000 - val_loss: 0.1935 - val_accuracy: 0.9494\n",
            "Epoch 39/50\n",
            "32/32 [==============================] - 1s 17ms/step - loss: 0.0017 - accuracy: 1.0000 - val_loss: 0.1906 - val_accuracy: 0.9494\n",
            "Epoch 40/50\n",
            "32/32 [==============================] - 1s 27ms/step - loss: 0.0016 - accuracy: 1.0000 - val_loss: 0.1944 - val_accuracy: 0.9551\n",
            "Epoch 41/50\n",
            "32/32 [==============================] - 1s 24ms/step - loss: 0.0016 - accuracy: 1.0000 - val_loss: 0.1915 - val_accuracy: 0.9494\n",
            "Epoch 42/50\n",
            "32/32 [==============================] - 1s 27ms/step - loss: 0.0015 - accuracy: 1.0000 - val_loss: 0.1998 - val_accuracy: 0.9494\n",
            "Epoch 43/50\n",
            "32/32 [==============================] - 1s 17ms/step - loss: 0.0014 - accuracy: 1.0000 - val_loss: 0.1948 - val_accuracy: 0.9438\n",
            "Epoch 44/50\n",
            "32/32 [==============================] - 1s 17ms/step - loss: 0.0014 - accuracy: 1.0000 - val_loss: 0.1963 - val_accuracy: 0.9551\n",
            "Epoch 45/50\n",
            "32/32 [==============================] - 1s 18ms/step - loss: 0.0013 - accuracy: 1.0000 - val_loss: 0.2002 - val_accuracy: 0.9494\n",
            "Epoch 46/50\n",
            "32/32 [==============================] - 1s 22ms/step - loss: 0.0013 - accuracy: 1.0000 - val_loss: 0.2023 - val_accuracy: 0.9494\n",
            "Epoch 47/50\n",
            "32/32 [==============================] - 1s 18ms/step - loss: 0.0012 - accuracy: 1.0000 - val_loss: 0.1982 - val_accuracy: 0.9551\n",
            "Epoch 48/50\n",
            "32/32 [==============================] - 1s 17ms/step - loss: 0.0011 - accuracy: 1.0000 - val_loss: 0.1939 - val_accuracy: 0.9438\n",
            "Epoch 49/50\n",
            "32/32 [==============================] - 1s 17ms/step - loss: 0.0012 - accuracy: 1.0000 - val_loss: 0.1936 - val_accuracy: 0.9551\n",
            "Epoch 50/50\n",
            "32/32 [==============================] - 1s 18ms/step - loss: 0.0011 - accuracy: 1.0000 - val_loss: 0.2039 - val_accuracy: 0.9494\n"
          ]
        }
      ]
    },
    {
      "cell_type": "code",
      "source": [
        "one_hidden_layer_NN_checkpoint_filepath = 'one_hidden_layer_NN/checkpoint/'\n",
        "\n",
        "one_hidden_layer_NN.load_weights(one_hidden_layer_NN_checkpoint_filepath)\n",
        "one_hidden_layer_NN.evaluate(val_data_gen)"
      ],
      "metadata": {
        "colab": {
          "base_uri": "https://localhost:8080/"
        },
        "id": "k872lzFwZfKv",
        "outputId": "21877948-c232-4ea0-85ac-397140f6dec1"
      },
      "execution_count": 33,
      "outputs": [
        {
          "output_type": "stream",
          "name": "stdout",
          "text": [
            "6/6 [==============================] - 0s 30ms/step - loss: 0.1823 - accuracy: 0.9607\n"
          ]
        },
        {
          "output_type": "execute_result",
          "data": {
            "text/plain": [
              "[0.1822538673877716, 0.9606741666793823]"
            ]
          },
          "metadata": {},
          "execution_count": 33
        }
      ]
    },
    {
      "cell_type": "markdown",
      "source": [
        "We can make this yet even more better"
      ],
      "metadata": {
        "id": "SxTp0NeiZxn-"
      }
    },
    {
      "cell_type": "code",
      "source": [
        "# now trying NN with multiple hidden layers\n",
        "\n",
        "def create_multi_hidden_layer_NN():\n",
        "    model = tf.keras.models.Sequential([\n",
        "        layers.Flatten(input_shape = IMAGE_SHAPE),\n",
        "        layers.Dense(64, activation='relu'),\n",
        "        layers.Dense(32, activation='relu'),\n",
        "        layers.Dense(NUM_OF_CLASSES, activation='softmax') \n",
        "    ])\n",
        "\n",
        "    model.compile(optimizer='adam',\n",
        "                loss='sparse_categorical_crossentropy',\n",
        "                metrics=['accuracy'])\n",
        "\n",
        "    return model"
      ],
      "metadata": {
        "id": "7F2KFQnFZtcc"
      },
      "execution_count": 34,
      "outputs": []
    },
    {
      "cell_type": "code",
      "source": [
        "multi_hidden_layer_NN = create_multi_hidden_layer_NN()\n",
        "multi_hidden_layer_NN.summary()"
      ],
      "metadata": {
        "colab": {
          "base_uri": "https://localhost:8080/"
        },
        "id": "Hw9ZGUQgZ1sY",
        "outputId": "b0adf7a7-4828-49cc-c313-c4fb1489463d"
      },
      "execution_count": 35,
      "outputs": [
        {
          "output_type": "stream",
          "name": "stdout",
          "text": [
            "Model: \"sequential_2\"\n",
            "_________________________________________________________________\n",
            " Layer (type)                Output Shape              Param #   \n",
            "=================================================================\n",
            " flatten_2 (Flatten)         (None, 1024)              0         \n",
            "                                                                 \n",
            " dense_3 (Dense)             (None, 64)                65600     \n",
            "                                                                 \n",
            " dense_4 (Dense)             (None, 32)                2080      \n",
            "                                                                 \n",
            " dense_5 (Dense)             (None, 10)                330       \n",
            "                                                                 \n",
            "=================================================================\n",
            "Total params: 68,010\n",
            "Trainable params: 68,010\n",
            "Non-trainable params: 0\n",
            "_________________________________________________________________\n"
          ]
        }
      ]
    },
    {
      "cell_type": "code",
      "source": [
        "# training\n",
        "\n",
        "multi_hidden_layer_NN_checkpoint_filepath = 'multi_hidden_layer_NN/checkpoint/'\n",
        "multi_hidden_layer_NN_checkpoint_callback = tf.keras.callbacks.ModelCheckpoint(\n",
        "    filepath=multi_hidden_layer_NN_checkpoint_filepath,\n",
        "    save_weights_only=True,\n",
        "    monitor='val_accuracy',\n",
        "    mode='max',\n",
        "    save_best_only=True)\n",
        "\n",
        "multi_hidden_layer_NN_checkpoint_filepath_history = multi_hidden_layer_NN.fit(train_data_gen, epochs=50, \n",
        "                    validation_data=val_data_gen,\n",
        "                    callbacks=[multi_hidden_layer_NN_checkpoint_callback])"
      ],
      "metadata": {
        "colab": {
          "base_uri": "https://localhost:8080/"
        },
        "id": "9K6Pu8eWZ3-x",
        "outputId": "0973849b-252e-48aa-84ca-f371a49ad51d"
      },
      "execution_count": 36,
      "outputs": [
        {
          "output_type": "stream",
          "name": "stdout",
          "text": [
            "Epoch 1/50\n",
            "32/32 [==============================] - 3s 39ms/step - loss: 1.7069 - accuracy: 0.4630 - val_loss: 1.1187 - val_accuracy: 0.6798\n",
            "Epoch 2/50\n",
            "32/32 [==============================] - 1s 16ms/step - loss: 0.5702 - accuracy: 0.8830 - val_loss: 0.5697 - val_accuracy: 0.8483\n",
            "Epoch 3/50\n",
            "32/32 [==============================] - 1s 28ms/step - loss: 0.2734 - accuracy: 0.9350 - val_loss: 0.4308 - val_accuracy: 0.8596\n",
            "Epoch 4/50\n",
            "32/32 [==============================] - 1s 25ms/step - loss: 0.1893 - accuracy: 0.9560 - val_loss: 0.3387 - val_accuracy: 0.9045\n",
            "Epoch 5/50\n",
            "32/32 [==============================] - 1s 17ms/step - loss: 0.1491 - accuracy: 0.9640 - val_loss: 0.2784 - val_accuracy: 0.9213\n",
            "Epoch 6/50\n",
            "32/32 [==============================] - 1s 16ms/step - loss: 0.1198 - accuracy: 0.9640 - val_loss: 0.2561 - val_accuracy: 0.9157\n",
            "Epoch 7/50\n",
            "32/32 [==============================] - 1s 17ms/step - loss: 0.0960 - accuracy: 0.9810 - val_loss: 0.2630 - val_accuracy: 0.9270\n",
            "Epoch 8/50\n",
            "32/32 [==============================] - 1s 17ms/step - loss: 0.0735 - accuracy: 0.9850 - val_loss: 0.2479 - val_accuracy: 0.9438\n",
            "Epoch 9/50\n",
            "32/32 [==============================] - 1s 16ms/step - loss: 0.0613 - accuracy: 0.9900 - val_loss: 0.2281 - val_accuracy: 0.9382\n",
            "Epoch 10/50\n",
            "32/32 [==============================] - 1s 16ms/step - loss: 0.0588 - accuracy: 0.9910 - val_loss: 0.2648 - val_accuracy: 0.9326\n",
            "Epoch 11/50\n",
            "32/32 [==============================] - 1s 16ms/step - loss: 0.0449 - accuracy: 0.9900 - val_loss: 0.2509 - val_accuracy: 0.9438\n",
            "Epoch 12/50\n",
            "32/32 [==============================] - 1s 17ms/step - loss: 0.0325 - accuracy: 0.9970 - val_loss: 0.2149 - val_accuracy: 0.9607\n",
            "Epoch 13/50\n",
            "32/32 [==============================] - 1s 16ms/step - loss: 0.0271 - accuracy: 0.9980 - val_loss: 0.2127 - val_accuracy: 0.9494\n",
            "Epoch 14/50\n",
            "32/32 [==============================] - 1s 16ms/step - loss: 0.0220 - accuracy: 0.9990 - val_loss: 0.1902 - val_accuracy: 0.9551\n",
            "Epoch 15/50\n",
            "32/32 [==============================] - 1s 17ms/step - loss: 0.0214 - accuracy: 0.9990 - val_loss: 0.2007 - val_accuracy: 0.9494\n",
            "Epoch 16/50\n",
            "32/32 [==============================] - 1s 15ms/step - loss: 0.0167 - accuracy: 1.0000 - val_loss: 0.2164 - val_accuracy: 0.9438\n",
            "Epoch 17/50\n",
            "32/32 [==============================] - 1s 17ms/step - loss: 0.0202 - accuracy: 0.9980 - val_loss: 0.2124 - val_accuracy: 0.9494\n",
            "Epoch 18/50\n",
            "32/32 [==============================] - 1s 16ms/step - loss: 0.0130 - accuracy: 1.0000 - val_loss: 0.2146 - val_accuracy: 0.9438\n",
            "Epoch 19/50\n",
            "32/32 [==============================] - 1s 16ms/step - loss: 0.0103 - accuracy: 1.0000 - val_loss: 0.2104 - val_accuracy: 0.9438\n",
            "Epoch 20/50\n",
            "32/32 [==============================] - 1s 16ms/step - loss: 0.0086 - accuracy: 1.0000 - val_loss: 0.1996 - val_accuracy: 0.9551\n",
            "Epoch 21/50\n",
            "32/32 [==============================] - 1s 27ms/step - loss: 0.0082 - accuracy: 1.0000 - val_loss: 0.2059 - val_accuracy: 0.9551\n",
            "Epoch 22/50\n",
            "32/32 [==============================] - 1s 26ms/step - loss: 0.0076 - accuracy: 1.0000 - val_loss: 0.2328 - val_accuracy: 0.9438\n",
            "Epoch 23/50\n",
            "32/32 [==============================] - 1s 16ms/step - loss: 0.0069 - accuracy: 1.0000 - val_loss: 0.1933 - val_accuracy: 0.9551\n",
            "Epoch 24/50\n",
            "32/32 [==============================] - 1s 16ms/step - loss: 0.0057 - accuracy: 1.0000 - val_loss: 0.1916 - val_accuracy: 0.9551\n",
            "Epoch 25/50\n",
            "32/32 [==============================] - 1s 16ms/step - loss: 0.0057 - accuracy: 1.0000 - val_loss: 0.2135 - val_accuracy: 0.9494\n",
            "Epoch 26/50\n",
            "32/32 [==============================] - 1s 16ms/step - loss: 0.0051 - accuracy: 1.0000 - val_loss: 0.2011 - val_accuracy: 0.9551\n",
            "Epoch 27/50\n",
            "32/32 [==============================] - 1s 16ms/step - loss: 0.0047 - accuracy: 1.0000 - val_loss: 0.2124 - val_accuracy: 0.9494\n",
            "Epoch 28/50\n",
            "32/32 [==============================] - 1s 17ms/step - loss: 0.0042 - accuracy: 1.0000 - val_loss: 0.2065 - val_accuracy: 0.9551\n",
            "Epoch 29/50\n",
            "32/32 [==============================] - 1s 16ms/step - loss: 0.0036 - accuracy: 1.0000 - val_loss: 0.2143 - val_accuracy: 0.9494\n",
            "Epoch 30/50\n",
            "32/32 [==============================] - 1s 17ms/step - loss: 0.0036 - accuracy: 1.0000 - val_loss: 0.2027 - val_accuracy: 0.9551\n",
            "Epoch 31/50\n",
            "32/32 [==============================] - 1s 16ms/step - loss: 0.0032 - accuracy: 1.0000 - val_loss: 0.2146 - val_accuracy: 0.9494\n",
            "Epoch 32/50\n",
            "32/32 [==============================] - 1s 22ms/step - loss: 0.0030 - accuracy: 1.0000 - val_loss: 0.2095 - val_accuracy: 0.9494\n",
            "Epoch 33/50\n",
            "32/32 [==============================] - 1s 16ms/step - loss: 0.0029 - accuracy: 1.0000 - val_loss: 0.2056 - val_accuracy: 0.9494\n",
            "Epoch 34/50\n",
            "32/32 [==============================] - 1s 16ms/step - loss: 0.0027 - accuracy: 1.0000 - val_loss: 0.2072 - val_accuracy: 0.9551\n",
            "Epoch 35/50\n",
            "32/32 [==============================] - 1s 16ms/step - loss: 0.0025 - accuracy: 1.0000 - val_loss: 0.2289 - val_accuracy: 0.9494\n",
            "Epoch 36/50\n",
            "32/32 [==============================] - 1s 16ms/step - loss: 0.0024 - accuracy: 1.0000 - val_loss: 0.2082 - val_accuracy: 0.9551\n",
            "Epoch 37/50\n",
            "32/32 [==============================] - 1s 16ms/step - loss: 0.0021 - accuracy: 1.0000 - val_loss: 0.2308 - val_accuracy: 0.9494\n",
            "Epoch 38/50\n",
            "32/32 [==============================] - 1s 25ms/step - loss: 0.0021 - accuracy: 1.0000 - val_loss: 0.2248 - val_accuracy: 0.9494\n",
            "Epoch 39/50\n",
            "32/32 [==============================] - 1s 26ms/step - loss: 0.0020 - accuracy: 1.0000 - val_loss: 0.2145 - val_accuracy: 0.9494\n",
            "Epoch 40/50\n",
            "32/32 [==============================] - 1s 21ms/step - loss: 0.0019 - accuracy: 1.0000 - val_loss: 0.2270 - val_accuracy: 0.9494\n",
            "Epoch 41/50\n",
            "32/32 [==============================] - 1s 17ms/step - loss: 0.0018 - accuracy: 1.0000 - val_loss: 0.2085 - val_accuracy: 0.9551\n",
            "Epoch 42/50\n",
            "32/32 [==============================] - 1s 16ms/step - loss: 0.0016 - accuracy: 1.0000 - val_loss: 0.2310 - val_accuracy: 0.9494\n",
            "Epoch 43/50\n",
            "32/32 [==============================] - 1s 16ms/step - loss: 0.0016 - accuracy: 1.0000 - val_loss: 0.2130 - val_accuracy: 0.9551\n",
            "Epoch 44/50\n",
            "32/32 [==============================] - 1s 16ms/step - loss: 0.0015 - accuracy: 1.0000 - val_loss: 0.2164 - val_accuracy: 0.9551\n",
            "Epoch 45/50\n",
            "32/32 [==============================] - 1s 17ms/step - loss: 0.0015 - accuracy: 1.0000 - val_loss: 0.2167 - val_accuracy: 0.9551\n",
            "Epoch 46/50\n",
            "32/32 [==============================] - 1s 16ms/step - loss: 0.0014 - accuracy: 1.0000 - val_loss: 0.2212 - val_accuracy: 0.9494\n",
            "Epoch 47/50\n",
            "32/32 [==============================] - 1s 17ms/step - loss: 0.0013 - accuracy: 1.0000 - val_loss: 0.2199 - val_accuracy: 0.9551\n",
            "Epoch 48/50\n",
            "32/32 [==============================] - 1s 16ms/step - loss: 0.0012 - accuracy: 1.0000 - val_loss: 0.2399 - val_accuracy: 0.9494\n",
            "Epoch 49/50\n",
            "32/32 [==============================] - 1s 16ms/step - loss: 0.0012 - accuracy: 1.0000 - val_loss: 0.2260 - val_accuracy: 0.9494\n",
            "Epoch 50/50\n",
            "32/32 [==============================] - 1s 17ms/step - loss: 0.0011 - accuracy: 1.0000 - val_loss: 0.2317 - val_accuracy: 0.9494\n"
          ]
        }
      ]
    },
    {
      "cell_type": "code",
      "source": [
        "plot_loss_accuracy(multi_hidden_layer_NN_checkpoint_filepath_history)"
      ],
      "metadata": {
        "colab": {
          "base_uri": "https://localhost:8080/",
          "height": 718
        },
        "id": "FLMft0yrZ6DY",
        "outputId": "0f6383e3-b253-4a3f-9580-50fe789dfe88"
      },
      "execution_count": 37,
      "outputs": [
        {
          "output_type": "display_data",
          "data": {
            "text/plain": [
              "<Figure size 800x800 with 2 Axes>"
            ],
            "image/png": "[encoded data removed]"
          },
          "metadata": {}
        }
      ]
    },
    {
      "cell_type": "markdown",
      "source": [
        "Problem 3: Chart Image Classification using CNN [40 points] \n",
        "Problem statement: You have to develop a CNN-based classification architecture for clas sifying a given chart image to one of five chart classes, namely “Line”,“Dot Line”,“Horizontal Bar”,“Vertical Bar”, and “Pie” chart. \n",
        "Task 1: Download the dataset from drive link given below. \n",
        "Dataset link \n",
        "Use the train and val images for training and validation in an appropriate ratio (e.g., 80% for training and 20 % for validating). The CSV file contains corresponding labels for the images. \n"
      ],
      "metadata": {
        "id": "_8C-FcWYamZV"
      }
    },
    {
      "cell_type": "code",
      "source": [
        "# importing the libraries\n",
        "import pandas as pd\n",
        "import numpy as np\n",
        "\n",
        "# for reading and displaying images\n",
        "from skimage.io import imread\n",
        "import matplotlib.pyplot as plt\n",
        "from sklearn import preprocessing \n",
        "\n",
        "# for creating validation set\n",
        "from sklearn.model_selection import train_test_split\n",
        "\n",
        "# for evaluating the model\n",
        "from sklearn.metrics import accuracy_score\n",
        "from tqdm import tqdm\n",
        "\n",
        "# PyTorch libraries and modules\n",
        "import torch\n",
        "from torch.autograd import Variable\n",
        "from torch.nn import Linear, ReLU, CrossEntropyLoss, Sequential, Conv2d, MaxPool2d, Module, BatchNorm2d\n",
        "from torch.optim import Adam\n",
        "\n",
        "\n",
        "# loading dataset\n",
        "train = pd.read_csv('Chart/train_val.csv')\n",
        "test = pd.read_csv('Chart/test.csv')\n",
        "\n",
        "sample_submission = pd.read_csv('Chart/prediction.csv')\n",
        "\n",
        "train.head()\n",
        "\n",
        "# loading training images\n",
        "train_img = []\n",
        "for img_name in tqdm(train['image_index']):\n",
        "    # defining the image path\n",
        "    image_path = 'Chart/train_val/' + str(img_name) + '.png'\n",
        "    # reading the image\n",
        "    img = imread(image_path, as_gray=True)\n",
        "    # normalizing the pixel values\n",
        "    img /= 255.0\n",
        "    # converting the type of pixel to float 32\n",
        "    img = img.astype('float32')\n",
        "    # appending the image into the list\n",
        "    train_img.append(img)\n",
        "\n",
        "# converting the list to numpy array\n",
        "train_x = np.array(train_img)\n",
        "# defining the target\n",
        "train_y = train['type'].values\n",
        "train_x.shape\n",
        "\n",
        "# create validation set\n",
        "train_x, val_x, train_y, val_y = train_test_split(train_x, train_y, test_size = 0.2)\n",
        "(train_x.shape, train_y.shape), (val_x.shape, val_y.shape)\n",
        "\n",
        "encoder = preprocessing.LabelEncoder()\n",
        "\n",
        "# converting training images into torch format\n",
        "train_x = train_x.reshape(800, 1, 128, 128)\n",
        "train_x  = torch.from_numpy(train_x)\n",
        "\n",
        "# converting the target into torch format\n",
        "train_y = encoder.fit_transform(train_y)\n",
        "\n",
        "train_y = train_y.astype(int);\n",
        "train_y = torch.from_numpy(train_y)\n",
        "\n",
        "# shape of training data\n",
        "train_x.shape, train_y.shape\n",
        "\n",
        "# converting validation images into torch format\n",
        "val_x = val_x.reshape(200, 1, 128, 128)\n",
        "val_x  = torch.from_numpy(val_x)\n",
        "\n",
        "# converting the target into torch format\n",
        "val_y = encoder.fit_transform(val_y)\n",
        "\n",
        "val_y = val_y.astype(int);\n",
        "val_y = torch.from_numpy(val_y)\n",
        "\n",
        "# shape of validation data\n",
        "val_x.shape, val_y.shape\n",
        "\n",
        "class Net(Module):   \n",
        "    def __init__(self):\n",
        "        super(Net, self).__init__()\n",
        "\n",
        "        self.cnn_layers = Sequential(\n",
        "            # Defining a 2D convolution layer\n",
        "            Conv2d(1, 4, kernel_size=3, stride=1, padding=1),\n",
        "            BatchNorm2d(4),\n",
        "            ReLU(inplace=True),\n",
        "            MaxPool2d(kernel_size=2, stride=2),\n",
        "            # Defining another 2D convolution layer\n",
        "            Conv2d(4, 4, kernel_size=3, stride=1, padding=1),\n",
        "            BatchNorm2d(4),\n",
        "            ReLU(inplace=True),\n",
        "            MaxPool2d(kernel_size=2, stride=2),\n",
        "        )\n",
        "\n",
        "        self.linear_layers = Sequential(\n",
        "            Linear(4 * 32 * 32, 10)\n",
        "        )\n",
        "\n",
        "    # Defining the forward pass    \n",
        "    def forward(self, x):\n",
        "        x = self.cnn_layers(x)\n",
        "        x = x.view(x.size(0), -1)\n",
        "        x = self.linear_layers(x)\n",
        "        return x\n",
        "\n",
        "# defining the model\n",
        "model = Net()\n",
        "# defining the optimizer\n",
        "optimizer = Adam(model.parameters(), lr=0.07)\n",
        "# defining the loss function\n",
        "criterion = CrossEntropyLoss()\n",
        "# checking if GPU is available\n",
        "if torch.cuda.is_available():\n",
        "    model = model.cuda()\n",
        "    criterion = criterion.cuda()\n",
        "\n",
        "def train(epoch):\n",
        "    model.train()\n",
        "    tr_loss = 0\n",
        "    # getting the training set\n",
        "    x_train, y_train = Variable(train_x), Variable(train_y)\n",
        "\n",
        "    y_train = y_train.long()\n",
        "\n",
        "    # getting the validation set\n",
        "    x_val, y_val = Variable(val_x), Variable(val_y)\n",
        "    y_val = y_val.long()\n",
        "    # converting the data into GPU format\n",
        "    if torch.cuda.is_available():\n",
        "        x_train = x_train.cuda()\n",
        "        y_train = y_train.cuda()\n",
        "        x_val = x_val.cuda()\n",
        "        y_val = y_val.cuda()\n",
        "\n",
        "    # clearing the Gradients of the model parameters\n",
        "    optimizer.zero_grad()\n",
        "    \n",
        "    # prediction for training and validation set\n",
        "    output_train = model(x_train)\n",
        "    output_val = model(x_val)\n",
        "\n",
        "    # computing the training and validation loss\n",
        "    loss_train = criterion(output_train, y_train)\n",
        "    loss_val = criterion(output_val, y_val)\n",
        "    train_losses.append(loss_train)\n",
        "    val_losses.append(loss_val)\n",
        "\n",
        "    # computing the updated weights of all the model parameters\n",
        "    loss_train.backward()\n",
        "    optimizer.step()\n",
        "\n",
        "# defining the number of epochs\n",
        "n_epochs = 50\n",
        "# empty list to store training losses\n",
        "train_losses = []\n",
        "# empty list to store validation losses\n",
        "val_losses = []\n",
        "# training the model\n",
        "for epoch in range(n_epochs):\n",
        "    train(epoch)\n",
        "\n",
        "# plotting the training and validation loss\n",
        "with torch.no_grad():    \n",
        "    plt.plot(train_losses, label='Training loss')\n",
        "    plt.plot(val_losses, label='Validation loss')\n",
        "    plt.legend()\n",
        "    plt.show()\n",
        "\n",
        "# prediction for training set\n",
        "with torch.no_grad():\n",
        "    output = model(train_x)\n",
        "    \n",
        "softmax = torch.exp(output).cpu()\n",
        "prob = list(softmax.numpy())\n",
        "predictions = np.argmax(prob, axis=1)\n",
        "\n",
        "# accuracy on training set\n",
        "accuracy_score(train_y, predictions)\n",
        "\n",
        "# prediction for validation set\n",
        "with torch.no_grad():\n",
        "    output = model(val_x)\n",
        "\n",
        "softmax = torch.exp(output).cpu()\n",
        "prob = list(softmax.numpy())\n",
        "predictions = np.argmax(prob, axis=1)\n",
        "\n",
        "# accuracy on validation set\n",
        "accuracy_score(val_y, predictions)\n",
        "\n",
        "# loading test images\n",
        "test_img = []\n",
        "for img_name in tqdm(test['image_index']):\n",
        "    # defining the image path\n",
        "    image_path = 'Chart/test/' + str(img_name) + '.png'\n",
        "    # reading the image\n",
        "    img = imread(image_path, as_gray=True)\n",
        "    # normalizing the pixel values\n",
        "    img /= 255.0\n",
        "    # converting the type of pixel to float 32\n",
        "    img = img.astype('float32')\n",
        "    # appending the image into the list\n",
        "    test_img.append(img)\n",
        "\n",
        "# converting the list to numpy array\n",
        "test_x = np.array(test_img)\n",
        "test_x.shape\n",
        "\n",
        "# converting training images into torch format\n",
        "test_x = test_x.reshape(50, 1, 128, 128)\n",
        "test_x  = torch.from_numpy(test_x)\n",
        "test_x.shape\n",
        "\n",
        "# generating predictions for test set\n",
        "with torch.no_grad():\n",
        "    output = model(test_x)\n",
        "\n",
        "softmax = torch.exp(output).cpu()\n",
        "prob = list(softmax.numpy())\n",
        "predictions = np.argmax(prob, axis=1)\n",
        "\n",
        "predictions = encoder.inverse_transform(predictions)\n",
        "\n",
        "# replacing the label with prediction\n",
        "sample_submission['type'] = predictions\n",
        "sample_submission.head()\n",
        "\n",
        "# saving the file\n",
        "sample_submission.to_csv('Chart/prediction.csv', index=False)"
      ],
      "metadata": {
        "id": "CJouSHj4arli"
      },
      "execution_count": null,
      "outputs": []
    }
  ]
}